{
 "cells": [
  {
   "cell_type": "code",
   "execution_count": 15,
   "metadata": {},
   "outputs": [],
   "source": [
    "from assistant import to_user_message, to_assistant_message\n",
    "import time\n",
    "import json\n",
    "import httpx\n",
    "\n",
    "\n",
    "URL = \"http://localhost:8000/chat\"\n",
    "\n",
    "\n",
    "def test_api(data):\n",
    "    start_time = time.time()\n",
    "    end_time = None\n",
    "    with httpx.stream(\"POST\", url, json=data) as response:\n",
    "        for chunk in response.iter_lines():\n",
    "            json_chunk = json.loads(chunk)\n",
    "            content = json_chunk[\"content\"]\n",
    "\n",
    "            if json_chunk[\"status\"] == \"progress\":\n",
    "                if end_time is None:\n",
    "                    end_time = time.time()\n",
    "                    print(\"스트리밍 시작:\")\n",
    "\n",
    "                print(content, end=\"\", flush=True)\n",
    "\n",
    "            elif json_chunk[\"status\"] == \"done\":\n",
    "                report = content[\"report\"]\n",
    "                completion = content[\"completion\"]\n",
    "                \n",
    "                print(f\"\\n\\nAnswer: {completion['answer']}\")\n",
    "                for follow_up in completion['follow_up_questions']:\n",
    "                    print(f\"        - {follow_up}\")\n",
    "                print(\"\\nReport:\")\n",
    "                print(f\"    - 사용 모델: {report['model']}\")\n",
    "                print(f\"    - 입력 토큰: {report['prompt_tokens']}\")\n",
    "                print(f\"    - 캐시 히트: {report['cache_hit_tokens']}\")\n",
    "                print(f\"    - 출력 토큰: {report['completion_tokens']}\")\n",
    "                print(f\"    - 첫 토큰 지연: {end_time - start_time}\")"
   ]
  },
  {
   "cell_type": "code",
   "execution_count": 18,
   "metadata": {},
   "outputs": [
    {
     "name": "stdout",
     "output_type": "stream",
     "text": [
      "스트리밍 시작:\n",
      "{\"answer\":\"배송 취소는 주문 상태에 따라 처리 방법이 다릅니다. 아직 '집하' 전인 경우, [판매관리 > 발주(주문)확인/발송관리] 메뉴에서 해당 주문을 선택 후 '집하취소'를 하시고 취소를 진행하시면 됩니다. 이미 발송되었거나 배송 중인 경우, [판매관리 > 취소관리] 메뉴에서 주문을 선택해 '취소 완료처리' 또는 '취소 거부처리'를 진행해 주세요.\",\"follow_up_questions\":[\"취소 처리 시 환불 절차는 어떻게 진행되나요?\",\"주문 취소 후 배송 상태는 어떻게 확인할 수 있나요?\"]}\n",
      "\n",
      "Answer: 배송 취소는 주문 상태에 따라 처리 방법이 다릅니다. 아직 '집하' 전인 경우, [판매관리 > 발주(주문)확인/발송관리] 메뉴에서 해당 주문을 선택 후 '집하취소'를 하시고 취소를 진행하시면 됩니다. 이미 발송되었거나 배송 중인 경우, [판매관리 > 취소관리] 메뉴에서 주문을 선택해 '취소 완료처리' 또는 '취소 거부처리'를 진행해 주세요.\n",
      "        - 취소 처리 시 환불 절차는 어떻게 진행되나요?\n",
      "        - 주문 취소 후 배송 상태는 어떻게 확인할 수 있나요?\n",
      "\n",
      "Report:\n",
      "    - 사용 모델: gpt-4.1-mini\n",
      "    - 입력 토큰: 2152\n",
      "    - 캐시 히트: 0\n",
      "    - 출력 토큰: 162\n",
      "    - 첫 토큰 지연: 2.6043970584869385\n"
     ]
    }
   ],
   "source": [
    "example_data1 = {\n",
    "  \"conversation_history\": [],\n",
    "  \"user_query\": \"배송 취소하고 싶어요\"\n",
    "}\n",
    "\n",
    "test_api(example_data1)"
   ]
  },
  {
   "cell_type": "code",
   "execution_count": 19,
   "metadata": {},
   "outputs": [
    {
     "name": "stdout",
     "output_type": "stream",
     "text": [
      "스트리밍 시작:\n",
      "{\"answer\":\"저는 네이버 스마트스토어 관련 질문에 도움을 드리는 챗봇입니다. 스마트스토어에 관한 궁금한 점을 물어봐 주세요.\",\"follow_up_questions\":[\"스마트스토어에서 판매 가능한 상품 종류가 궁금하신가요?\",\"스마트스토어 회원 가입 방법을 안내해 드릴까요?\"]}\n",
      "\n",
      "Answer: 저는 네이버 스마트스토어 관련 질문에 도움을 드리는 챗봇입니다. 스마트스토어에 관한 궁금한 점을 물어봐 주세요.\n",
      "        - 스마트스토어에서 판매 가능한 상품 종류가 궁금하신가요?\n",
      "        - 스마트스토어 회원 가입 방법을 안내해 드릴까요?\n",
      "\n",
      "Report:\n",
      "    - 사용 모델: gpt-4.1-mini\n",
      "    - 입력 토큰: 1044\n",
      "    - 캐시 히트: 0\n",
      "    - 출력 토큰: 90\n",
      "    - 첫 토큰 지연: 1.9408659934997559\n"
     ]
    }
   ],
   "source": [
    "example_data2 = {\n",
    "  \"conversation_history\": [\n",
    "    to_user_message(\"스토어 교육\"),\n",
    "    to_assistant_message(\"스마트스토어 운영 시 도움이 될 만한 강의를 온라인으로 확인하실 수 있습니다. 네이버 비즈니스 스쿨에서 교육을 수강 신청 후, 다양한 콘텐츠를 보실 수 있습니다.\"),\n",
    "  ],\n",
    "  \"user_query\": \"산타에게 크리스마스 선물을 어떤 걸 달라고 할까?\"\n",
    "}\n",
    "\n",
    "test_api(example_data2)"
   ]
  },
  {
   "cell_type": "code",
   "execution_count": null,
   "metadata": {},
   "outputs": [],
   "source": []
  }
 ],
 "metadata": {
  "kernelspec": {
   "display_name": "coxwave-7AcCToa8-py3.11",
   "language": "python",
   "name": "python3"
  },
  "language_info": {
   "codemirror_mode": {
    "name": "ipython",
    "version": 3
   },
   "file_extension": ".py",
   "mimetype": "text/x-python",
   "name": "python",
   "nbconvert_exporter": "python",
   "pygments_lexer": "ipython3",
   "version": "3.11.2"
  }
 },
 "nbformat": 4,
 "nbformat_minor": 2
}
