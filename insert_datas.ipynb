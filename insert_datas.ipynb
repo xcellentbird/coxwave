{
 "cells": [
  {
   "cell_type": "code",
   "execution_count": 20,
   "metadata": {},
   "outputs": [],
   "source": [
    "from pymilvus import MilvusClient, model\n",
    "from config import OPENAI_API_KEY\n",
    "import json\n",
    "\n",
    "DB_PATH = \"datas/final_result.db\"\n",
    "OPENAI_TEXT_EMBEDDING_MODEL = \"text-embedding-3-small\"\n",
    "EMBEDDING_DIMENSION = 1536\n",
    "COLLECTION_NAME = \"smartstore_faq\"\n",
    "\n",
    "\n",
    "openai_ef = model.dense.OpenAIEmbeddingFunction(\n",
    "    model_name=OPENAI_TEXT_EMBEDDING_MODEL,\n",
    "    api_key=OPENAI_API_KEY\n",
    ")\n",
    "\n",
    "with open(\"datas/final_result.json\", \"r\", encoding=\"utf-8\") as f:\n",
    "    faq_data = json.load(f)\n",
    "\n",
    "milvus_client = MilvusClient(DB_PATH)\n"
   ]
  },
  {
   "cell_type": "code",
   "execution_count": 17,
   "metadata": {},
   "outputs": [
    {
     "data": {
      "text/plain": [
       "2717"
      ]
     },
     "execution_count": 17,
     "metadata": {},
     "output_type": "execute_result"
    }
   ],
   "source": [
    "len(faq_data.items())"
   ]
  },
  {
   "cell_type": "code",
   "execution_count": 36,
   "metadata": {},
   "outputs": [],
   "source": [
    "# create collection\n",
    "if not milvus_client.has_collection(COLLECTION_NAME):\n",
    "    milvus_client.create_collection(COLLECTION_NAME, dimension=EMBEDDING_DIMENSION)"
   ]
  },
  {
   "cell_type": "code",
   "execution_count": 21,
   "metadata": {},
   "outputs": [],
   "source": [
    "from db import openai_ef\n",
    "\n",
    "# insert data with embeddings\n",
    "datas = []\n",
    "for i, (key, value) in enumerate(faq_data.items()):\n",
    "\n",
    "    string_to_embed = f\"{key}: {value}\"\n",
    "\n",
    "    # cut the string for over 8192 tokens\n",
    "    string_to_embed = string_to_embed[:8000]\n",
    "\n",
    "    try:\n",
    "        vector = openai_ef.encode_documents(string_to_embed)[0]\n",
    "    except Exception as e:\n",
    "        print(i)\n",
    "        print(len(string_to_embed))\n",
    "        raise e\n",
    "    \n",
    "    data = {\n",
    "        \"id\": i,\n",
    "        \"question\": key,\n",
    "        \"answer\": value,\n",
    "        \"vector\": vector\n",
    "    }\n",
    "\n",
    "    milvus_client.insert(COLLECTION_NAME, data)"
   ]
  },
  {
   "cell_type": "code",
   "execution_count": 23,
   "metadata": {},
   "outputs": [
    {
     "data": {
      "text/plain": [
       "{'row_count': 2717}"
      ]
     },
     "execution_count": 23,
     "metadata": {},
     "output_type": "execute_result"
    }
   ],
   "source": [
    "milvus_client.get_collection_stats(COLLECTION_NAME)"
   ]
  }
 ],
 "metadata": {
  "kernelspec": {
   "display_name": "coxwave-7AcCToa8-py3.11",
   "language": "python",
   "name": "python3"
  },
  "language_info": {
   "codemirror_mode": {
    "name": "ipython",
    "version": 3
   },
   "file_extension": ".py",
   "mimetype": "text/x-python",
   "name": "python",
   "nbconvert_exporter": "python",
   "pygments_lexer": "ipython3",
   "version": "3.11.2"
  }
 },
 "nbformat": 4,
 "nbformat_minor": 2
}
