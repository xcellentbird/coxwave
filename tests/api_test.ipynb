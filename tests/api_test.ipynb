{
 "cells": [
  {
   "cell_type": "code",
   "execution_count": null,
   "metadata": {},
   "outputs": [
    {
     "ename": "ModuleNotFoundError",
     "evalue": "No module named 'main'",
     "output_type": "error",
     "traceback": [
      "\u001b[31m---------------------------------------------------------------------------\u001b[39m",
      "\u001b[31mModuleNotFoundError\u001b[39m                       Traceback (most recent call last)",
      "\u001b[36mCell\u001b[39m\u001b[36m \u001b[39m\u001b[32mIn[9]\u001b[39m\u001b[32m, line 2\u001b[39m\n\u001b[32m      1\u001b[39m \u001b[38;5;28;01mfrom\u001b[39;00m\u001b[38;5;250m \u001b[39m\u001b[34;01mfastapi\u001b[39;00m\u001b[34;01m.\u001b[39;00m\u001b[34;01mtestclient\u001b[39;00m\u001b[38;5;250m \u001b[39m\u001b[38;5;28;01mimport\u001b[39;00m TestClient\n\u001b[32m----> \u001b[39m\u001b[32m2\u001b[39m \u001b[38;5;28;01mfrom\u001b[39;00m\u001b[38;5;250m \u001b[39m\u001b[34;01mmain\u001b[39;00m\u001b[38;5;250m \u001b[39m\u001b[38;5;28;01mimport\u001b[39;00m app\n\u001b[32m      4\u001b[39m \u001b[38;5;28;01mimport\u001b[39;00m\u001b[38;5;250m \u001b[39m\u001b[34;01mtime\u001b[39;00m\n\u001b[32m      5\u001b[39m \u001b[38;5;28;01mimport\u001b[39;00m\u001b[38;5;250m \u001b[39m\u001b[34;01mjson\u001b[39;00m\n",
      "\u001b[31mModuleNotFoundError\u001b[39m: No module named 'main'"
     ]
    }
   ],
   "source": [
    "import time\n",
    "import json\n",
    "import httpx\n",
    "\n",
    "\n",
    "URL = \"http://localhost:8000/chat\"\n",
    "\n",
    "def to_message(role: str, content: str, name: str = None) -> dict:\n",
    "    message = {\n",
    "        \"role\": role,\n",
    "        \"content\": content  \n",
    "    }\n",
    "    if name is not None:\n",
    "        message[\"name\"] = name\n",
    "    return message\n",
    "\n",
    "def to_user_message(text: str, name: str = None) -> dict: \n",
    "    return to_message(\"user\", text, name)\n",
    "\n",
    "def to_assistant_message(text: str, name: str = None) -> dict:\n",
    "    return to_message(\"assistant\", text, name)\n",
    "\n",
    "def test_api(data):\n",
    "    start_time = time.time()\n",
    "    end_time = None\n",
    "    with httpx.stream(\"POST\", URL, json=data) as response:\n",
    "        for chunk in response.iter_lines():\n",
    "            json_chunk = json.loads(chunk)\n",
    "            content = json_chunk[\"content\"]\n",
    "\n",
    "            if json_chunk[\"status\"] == \"progress\":\n",
    "                if end_time is None:\n",
    "                    end_time = time.time()\n",
    "                    print(\"스트리밍 시작:\")\n",
    "\n",
    "                print(content, end=\"\", flush=True)\n",
    "\n",
    "            elif json_chunk[\"status\"] == \"done\":\n",
    "                report = content[\"report\"]\n",
    "                completion = content[\"completion\"]\n",
    "                \n",
    "                print(f\"\\n\\nAnswer: {completion['answer']}\")\n",
    "                for follow_up in completion['follow_up_questions']:\n",
    "                    print(f\"        - {follow_up}\")\n",
    "                print(\"\\nReport:\")\n",
    "                print(f\"    - 사용 모델: {report['model']}\")\n",
    "                print(f\"    - 입력 토큰: {report['prompt_tokens']}\")\n",
    "                print(f\"    - 캐시 히트: {report['cache_hit_tokens']}\")\n",
    "                print(f\"    - 출력 토큰: {report['completion_tokens']}\")\n",
    "                print(f\"    - 첫 토큰 지연: {end_time - start_time}\")"
   ]
  },
  {
   "cell_type": "code",
   "execution_count": 6,
   "metadata": {},
   "outputs": [
    {
     "name": "stdout",
     "output_type": "stream",
     "text": [
      "스트리밍 시작:\n",
      "{\"answer\":\"배송 취소는 주문 상태에 따라 처리 방법이 다릅니다. 아직 '집하' 되지 않은 경우, [판매관리 > 발주(주문)확인/발송관리]에서 해당 주문을 선택 후 '집하취소'를 하시고 취소를 진행하시면 됩니다. 이미 발송되기 전이라면, [판매관리 > 취소관리]에서 주문을 선택해 '취소 완료처리' 또는 '취소 거부처리'를 해주세요. 취소는 4영업일 내에 처리하지 않으면 자동 환불 처리됩니다.\",\"follow_up_questions\":[\"발송 후 취소 요청 시 어떻게 해야 하나요?\",\"부분 취소는 가능한가요?\"]}\n",
      "\n",
      "Answer: 배송 취소는 주문 상태에 따라 처리 방법이 다릅니다. 아직 '집하' 되지 않은 경우, [판매관리 > 발주(주문)확인/발송관리]에서 해당 주문을 선택 후 '집하취소'를 하시고 취소를 진행하시면 됩니다. 이미 발송되기 전이라면, [판매관리 > 취소관리]에서 주문을 선택해 '취소 완료처리' 또는 '취소 거부처리'를 해주세요. 취소는 4영업일 내에 처리하지 않으면 자동 환불 처리됩니다.\n",
      "        - 발송 후 취소 요청 시 어떻게 해야 하나요?\n",
      "        - 부분 취소는 가능한가요?\n",
      "\n",
      "Report:\n",
      "    - 사용 모델: gpt-4.1-mini\n",
      "    - 입력 토큰: 2152\n",
      "    - 캐시 히트: 1536\n",
      "    - 출력 토큰: 169\n",
      "    - 첫 토큰 지연: 3.0562729835510254\n"
     ]
    }
   ],
   "source": [
    "example_data1 = {\n",
    "  \"conversation_history\": [],\n",
    "  \"user_query\": \"배송 취소하고 싶어요\"\n",
    "}\n",
    "\n",
    "test_api(example_data1)"
   ]
  },
  {
   "cell_type": "code",
   "execution_count": 7,
   "metadata": {},
   "outputs": [
    {
     "name": "stdout",
     "output_type": "stream",
     "text": [
      "스트리밍 시작:\n",
      "{\"answer\":\"저는 네이버 스마트스토어 관련 질문에 도움을 드리는 챗봇입니다. 스마트스토어에 관한 궁금한 점을 물어봐 주세요.\",\"follow_up_questions\":[\"스마트스토어에서 크리스마스 이벤트 진행 방법이 궁금하신가요?\",\"스마트스토어 상품 등록에 대해 안내해 드릴까요?\"]}\n",
      "\n",
      "Answer: 저는 네이버 스마트스토어 관련 질문에 도움을 드리는 챗봇입니다. 스마트스토어에 관한 궁금한 점을 물어봐 주세요.\n",
      "        - 스마트스토어에서 크리스마스 이벤트 진행 방법이 궁금하신가요?\n",
      "        - 스마트스토어 상품 등록에 대해 안내해 드릴까요?\n",
      "\n",
      "Report:\n",
      "    - 사용 모델: gpt-4.1-mini\n",
      "    - 입력 토큰: 1044\n",
      "    - 캐시 히트: 0\n",
      "    - 출력 토큰: 93\n",
      "    - 첫 토큰 지연: 1.9191431999206543\n"
     ]
    }
   ],
   "source": [
    "example_data2 = {\n",
    "  \"conversation_history\": [\n",
    "    to_user_message(\"스토어 교육\"),\n",
    "    to_assistant_message(\"스마트스토어 운영 시 도움이 될 만한 강의를 온라인으로 확인하실 수 있습니다. 네이버 비즈니스 스쿨에서 교육을 수강 신청 후, 다양한 콘텐츠를 보실 수 있습니다.\"),\n",
    "  ],\n",
    "  \"user_query\": \"산타에게 크리스마스 선물을 어떤 걸 달라고 할까?\"\n",
    "}\n",
    "\n",
    "test_api(example_data2)"
   ]
  },
  {
   "cell_type": "code",
   "execution_count": null,
   "metadata": {},
   "outputs": [],
   "source": []
  }
 ],
 "metadata": {
  "kernelspec": {
   "display_name": "coxwave-7AcCToa8-py3.11",
   "language": "python",
   "name": "python3"
  },
  "language_info": {
   "codemirror_mode": {
    "name": "ipython",
    "version": 3
   },
   "file_extension": ".py",
   "mimetype": "text/x-python",
   "name": "python",
   "nbconvert_exporter": "python",
   "pygments_lexer": "ipython3",
   "version": "3.11.2"
  }
 },
 "nbformat": 4,
 "nbformat_minor": 2
}
